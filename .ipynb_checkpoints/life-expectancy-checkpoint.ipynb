{
 "cells": [
  {
   "cell_type": "markdown",
   "id": "8b9e6692-722c-4739-97ae-b63825b1e621",
   "metadata": {},
   "source": [
    "# Predicting Life Expectancy from WHO Data"
   ]
  },
  {
   "cell_type": "code",
   "execution_count": 1,
   "id": "dbf26441-62b0-4f99-bca0-b21bb8569829",
   "metadata": {},
   "outputs": [],
   "source": [
    "import numpy as np\n",
    "np.set_printoptions(legacy='1.25')\n",
    "import pandas as pd\n",
    "import seaborn as sns\n",
    "import matplotlib.pyplot as plt"
   ]
  },
  {
   "cell_type": "code",
   "execution_count": null,
   "id": "e310cd95-4589-44f1-aea7-22ffb5d827ae",
   "metadata": {},
   "outputs": [],
   "source": [
    "life_exp = pd.read_csv()"
   ]
  }
 ],
 "metadata": {
  "kernelspec": {
   "display_name": "Python 3 (ipykernel)",
   "language": "python",
   "name": "python3"
  },
  "language_info": {
   "codemirror_mode": {
    "name": "ipython",
    "version": 3
   },
   "file_extension": ".py",
   "mimetype": "text/x-python",
   "name": "python",
   "nbconvert_exporter": "python",
   "pygments_lexer": "ipython3",
   "version": "3.12.4"
  }
 },
 "nbformat": 4,
 "nbformat_minor": 5
}
